{
 "cells": [
  {
   "cell_type": "code",
   "execution_count": 1,
   "metadata": {},
   "outputs": [],
   "source": [
    "#!/usr/bin/env python\n",
    "# coding: utf8\n",
    "\"\"\"\n",
    "Example of multi-processing with Joblib and getting entity relations by thread.\n",
    "\n",
    "Prerequisites: pip install joblib\n",
    "\"\"\"\n",
    "from __future__ import print_function, unicode_literals\n",
    "\n",
    "from pathlib import Path\n",
    "from joblib import Parallel, delayed\n",
    "from functools import partial\n",
    "import pkg_resources\n",
    "pkg_resources.require('SpaCy==2.1.0')\n",
    "import plac\n",
    "import spacy\n",
    "from spacy.util import minibatch\n",
    "import neuralcoref\n",
    "import pandas as pd\n",
    "\n",
    "\n",
    "@plac.annotations(\n",
    "    model=(\"Model name (needs tagger)\", \"positional\", None, str),\n",
    "    n_jobs=(\"Number of workers\", \"option\", \"n\", int),\n",
    "    batch_size=(\"Batch-size for each process\", \"option\", \"b\", int),\n",
    "    limit=(\"Limit of entries from the dataset\", \"option\", \"l\", int),\n",
    ")\n",
    "\n",
    "def main(model=\"en_core_web_sm\", n_jobs=5, batch_size=100, limit=100000):\n",
    "    nlp = spacy.load(model)  # load spaCy model\n",
    "    print(\"Loaded model '%s'\" % model)\n",
    "    # load and pre-process emails\n",
    "    print(\"Loading data...\")\n",
    "    base_df, focused_df = load_process_data()\n",
    "    texts = focused_df.ix[:,0].tolist()\n",
    "    print(\"Processing texts...\")\n",
    "    partitions = minibatch(texts, size=batch_size)\n",
    "    executor = Parallel(n_jobs=n_jobs, backend=\"multiprocessing\", prefer=\"processes\")\n",
    "    do = delayed(partial(transform_texts, nlp))\n",
    "    tasks = (do(i, batch) for i, batch in enumerate(partitions))\n",
    "    executor(tasks)    \n",
    "\n",
    "\n",
    "def load_process_data(data = \"emails_processed.csv\"):\n",
    "    base_df = pd.read_csv(data)\n",
    "    base_df = base_df.set_index('Message-ID', drop=True)\n",
    "    base_df = base_df[0:1000]\n",
    "    focused_df = base_df[['Subject']]\n",
    "    return base_df, focused_df\n",
    "    \n",
    "    \n",
    "def transform_texts(nlp, batch_id, texts):\n",
    "    print(nlp.pipe_names)\n",
    "    out_path = Path(output_dir) / (\"%d.txt\" % batch_id)\n",
    "    print(\"Processing batch\", batch_id)\n",
    "    process_threads(subject_df = emails_df[['Subject']], base_df = emails_df)\n",
    "    print(\"Processed {} emails in batch {}\".format(len(texts), batch_id))\n",
    "\n",
    "    \n",
    "def process_threads(subject_df, base_df, subject_col='Subject', content_col='content'):\n",
    "    subject_df = clean_threads(subject_df)\n",
    "    \n",
    "    # Group by subject\n",
    "    subject_dict = subject_df.groupby(subject_col).groups\n",
    "    \n",
    "    # Get content for emails in same thread\n",
    "    thread_dict = defaultdict(list)\n",
    "    thread_dict_processed = defaultdict(list)\n",
    "    for key, value in subject_dict.items():\n",
    "        for value in subject_dict[key]:\n",
    "            thread_dict[key].append(base_df.loc[value][content_col])\n",
    "\n",
    "    for key in thread_dict.keys():\n",
    "        thread_dict_processed[key] = ' '.join(thread_dict[key])\n",
    "    \n",
    "    # Pass processed strings to SpaCy pipeline\n",
    "    for key in thread_dict_processed.keys():\n",
    "        thread_dict_processed[key] = nlp(thread_dict_processed[key])\n",
    "    \n",
    "    return thread_dict_processed\n",
    "    \n",
    "    \n",
    "def clean_threads(subject_df, subject_col='Subject'):\n",
    "    subject_df = subject_df.astype(str)\n",
    "    \n",
    "    for index, row in subject_df.iterrows():\n",
    "        row[subject_col] = row[subject_col].replace('Re:', '')\n",
    "        row[subject_col] = row[subject_col].replace('re:', '')\n",
    "        row[subject_col] = row[subject_col].replace('RE:', '')\n",
    "        row[subject_col] = row[subject_col].replace('FW:', '')\n",
    "        row[subject_col] = row[subject_col].strip()\n",
    "    return subject_df\n"
   ]
  },
  {
   "cell_type": "code",
   "execution_count": null,
   "metadata": {},
   "outputs": [
    {
     "name": "stdout",
     "output_type": "stream",
     "text": [
      "Loaded model 'en_core_web_sm'\n",
      "Loading data...\n"
     ]
    },
    {
     "name": "stderr",
     "output_type": "stream",
     "text": [
      "c:\\users\\danie\\desktop\\w210\\venv_docs\\lib\\site-packages\\ipykernel_launcher.py:35: DeprecationWarning: \n",
      ".ix is deprecated. Please use\n",
      ".loc for label based indexing or\n",
      ".iloc for positional indexing\n",
      "\n",
      "See the documentation here:\n",
      "http://pandas.pydata.org/pandas-docs/stable/indexing.html#ix-indexer-is-deprecated\n"
     ]
    },
    {
     "name": "stdout",
     "output_type": "stream",
     "text": [
      "Processing texts...\n"
     ]
    }
   ],
   "source": [
    "main()\n"
   ]
  },
  {
   "cell_type": "code",
   "execution_count": null,
   "metadata": {},
   "outputs": [],
   "source": [
    "\n"
   ]
  }
 ],
 "metadata": {
  "kernelspec": {
   "display_name": "Python 3",
   "language": "python",
   "name": "python3"
  },
  "language_info": {
   "codemirror_mode": {
    "name": "ipython",
    "version": 3
   },
   "file_extension": ".py",
   "mimetype": "text/x-python",
   "name": "python",
   "nbconvert_exporter": "python",
   "pygments_lexer": "ipython3",
   "version": "3.7.3"
  }
 },
 "nbformat": 4,
 "nbformat_minor": 2
}

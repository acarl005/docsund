{
 "cells": [
  {
   "cell_type": "markdown",
   "metadata": {},
   "source": [
    "# Multiprocessing\n",
    "\n",
    "Does not work on Windows OS"
   ]
  },
  {
   "cell_type": "code",
   "execution_count": 1,
   "metadata": {
    "pycharm": {
     "is_executing": false
    }
   },
   "outputs": [],
   "source": [
    "from __future__ import print_function, unicode_literals\n",
    "\n",
    "from collections import defaultdict\n",
    "import pkg_resources\n",
    "pkg_resources.require('SpaCy<=2.1.3')\n",
    "import spacy\n",
    "import neuralcoref\n",
    "import pandas as pd\n",
    "import multiprocessing as mp\n",
    "import numpy as np\n",
    "import tqdm\n",
    "import time\n",
    "import pickle\n",
    "\n",
    "ENTITIES_OF_INTEREST = ['PERSON', 'NORP', 'FAC', 'ORG', 'GPE', 'LOC', 'PRODUCT', 'EVENT', 'WORK_OF_ART', 'LAW', 'LANGUAGE',\n",
    "'DATE', 'TIME', 'PERCENT', 'MONEY', 'QUANTITY', 'ORDINAL', 'CARDINAL']\n",
    "\n",
    "def apply_pipeline(text):\n",
    "    text = pipe(text)\n",
    "    return text\n",
    "\n",
    "def load_processed_data(data=\"emails_processed.csv\", nrows=5000):\n",
    "    base_df = pd.read_csv(data, nrows=nrows)\n",
    "    focused_df = base_df[['Message-ID', 'Subject']]\n",
    "    return base_df, focused_df\n",
    "\n",
    "\n",
    "def clean_threads(subject_df, subject_col='Subject'):\n",
    "    subject_df = subject_df.astype(str)\n",
    "\n",
    "    for index, row in subject_df.iterrows():\n",
    "        row[subject_col] = row[subject_col].replace('Re:', '')\n",
    "        row[subject_col] = row[subject_col].replace('re:', '')\n",
    "        row[subject_col] = row[subject_col].replace('RE:', '')\n",
    "        row[subject_col] = row[subject_col].replace('FW:', '')\n",
    "        row[subject_col] = row[subject_col].strip()\n",
    "    return subject_df\n",
    "\n",
    "\n",
    "def get_threads(subject_df, base_df, subject_col='Subject', content_col='content'):\n",
    "    subject_df = clean_threads(subject_df)\n",
    "\n",
    "    # Group by subject\n",
    "    subject_dict = subject_df.groupby(subject_col).groups\n",
    "\n",
    "    # Get content for emails in same thread\n",
    "    thread_dict = defaultdict(list)\n",
    "    thread_dict_processed = defaultdict(list)\n",
    "    for key, value in subject_dict.items():\n",
    "        for value in subject_dict[key]:\n",
    "            thread_dict[key].append(base_df.loc[value][content_col])\n",
    "\n",
    "    for key in thread_dict.keys():\n",
    "        thread_dict_processed[key] = ' '.join(thread_dict[key])\n",
    "\n",
    "    return thread_dict_processed\n",
    "\n",
    "\n",
    "def parallelize_df(df, func, save=False, save_file_name=''):\n",
    "    cores = mp.cpu_count()\n",
    "    partitions = cores - 1\n",
    "    df_split = np.array_split(df, partitions)\n",
    "    pool = mp.Pool(cores)\n",
    "    df = pd.concat(pool.map(func, df_split))\n",
    "    pool.close()\n",
    "    pool.join()\n",
    "    \n",
    "    if save:\n",
    "        df.to_pickle(save_file_name)\n",
    "        print('Saved to disk!')\n",
    "    else:\n",
    "        return df\n",
    "\n",
    "\n",
    "def process_neuralcoref(df):\n",
    "#     if 'neuralcoref_content' not in df:\n",
    "#         df['neuralcoref_content'] = None\n",
    "\n",
    "    for idx, email in zip(df.index, nlp.pipe(df['content'].tolist(), batch_size=150)):\n",
    "        df.at[idx, 'neuralcoref_content'] = email._.coref_resolved\n",
    "\n",
    "    return df\n",
    "\n",
    "\n",
    "def process_emails(df, entity_list=ENTITIES_OF_INTEREST):\n",
    "    if 'processed_content' not in df:\n",
    "        df['processed_content'] = None\n",
    "        \n",
    "    for i, rows in df.iterrows():\n",
    "        df.at[i, 'processed_content'] = nlp(df.at[i, 'content'])\n",
    "        for entity in entity_list:\n",
    "            if entity in  [ent.label_ for ent in list(df.at[i, 'processed_content'].ents)]:\n",
    "                df.at[i,entity] = 1\n",
    "            else:\n",
    "                df.at[i, entity] = 0\n",
    "    \n",
    "    return df"
   ]
  },
  {
   "cell_type": "code",
   "execution_count": 2,
   "metadata": {
    "pycharm": {
     "is_executing": false
    }
   },
   "outputs": [],
   "source": [
    "nlp = spacy.load('en_core_web_sm')\n",
    "\n",
    "base_df, focused_df = load_processed_data(nrows=5000)"
   ]
  },
  {
   "cell_type": "code",
   "execution_count": 3,
   "metadata": {},
   "outputs": [
    {
     "name": "stdout",
     "output_type": "stream",
     "text": [
      "3.85 minutes\n"
     ]
    }
   ],
   "source": [
    "start_time = time.time()\n",
    "processed_df = parallelize_df(base_df, process_emails)\n",
    "print(\"{min} minutes\".format(min = round((time.time()-start_time)/60,2)))"
   ]
  },
  {
   "cell_type": "markdown",
   "metadata": {},
   "source": [
    "- 5000, 1.64 min\n",
    "- 10000, 4.32 min"
   ]
  },
  {
   "cell_type": "code",
   "execution_count": null,
   "metadata": {},
   "outputs": [],
   "source": [
    "neuralcoref_df = processed_df.loc[processed_df['PERSON'] == 1]"
   ]
  },
  {
   "cell_type": "code",
   "execution_count": 4,
   "metadata": {},
   "outputs": [
    {
     "name": "stdout",
     "output_type": "stream",
     "text": [
      "Saved to disk!\n",
      "27.83 minutes\n"
     ]
    }
   ],
   "source": [
    "start_time = time.time()\n",
    "neuralcoref.add_to_pipe(nlp)\n",
    "\n",
    "# nlp.remove_pipe('tagger')\n",
    "# nlp.remove_pipe('ner')\n",
    "# nlp.remove_pipe('parser')\n",
    "\n",
    "parallelize_df(processed_df, process_neuralcoref, True, 'test.pkl')\n",
    "print(\"{min} minutes\".format(min = round((time.time()-start_time)/60,2)))"
   ]
  },
  {
   "cell_type": "markdown",
   "metadata": {},
   "source": [
    "### Also works, but way less flexible:"
   ]
  },
  {
   "cell_type": "code",
   "execution_count": null,
   "metadata": {},
   "outputs": [],
   "source": [
    "# with mp.Pool(processes=2) as pool:\n",
    "#     threads_processed = pool.map(apply_pipeline, [threads[key] for key in threads.keys()])\n",
    "    \n",
    "pool = Pool(processes=8)\n",
    "for _ in tqdm.tqdm(pool.imap(nlp, [threads[key] for key in threads.keys()]), total=len(threads)):\n",
    "    pass\n",
    "pool.close()\n",
    "pool.join()"
   ]
  }
 ],
 "metadata": {
  "kernelspec": {
   "display_name": "Python 3",
   "language": "python",
   "name": "python3"
  },
  "language_info": {
   "codemirror_mode": {
    "name": "ipython",
    "version": 3
   },
   "file_extension": ".py",
   "mimetype": "text/x-python",
   "name": "python",
   "nbconvert_exporter": "python",
   "pygments_lexer": "ipython3",
   "version": "3.7.3"
  },
  "pycharm": {
   "stem_cell": {
    "cell_type": "raw",
    "metadata": {
     "collapsed": false
    },
    "source": []
   }
  }
 },
 "nbformat": 4,
 "nbformat_minor": 2
}

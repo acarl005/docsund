{
 "cells": [
  {
   "cell_type": "markdown",
   "metadata": {},
   "source": [
    "# Multiprocessing\n",
    "\n",
    "Does not work on Windows OS"
   ]
  },
  {
   "cell_type": "code",
   "execution_count": 1,
   "metadata": {
    "pycharm": {
     "is_executing": false
    }
   },
   "outputs": [],
   "source": [
    "from __future__ import print_function, unicode_literals\n",
    "\n",
    "from collections import defaultdict\n",
    "import pkg_resources\n",
    "pkg_resources.require('SpaCy<=2.1.3')\n",
    "import spacy\n",
    "import neuralcoref\n",
    "import pandas as pd\n",
    "import multiprocessing as mp\n",
    "import numpy as np\n",
    "import tqdm\n",
    "import time\n",
    "import pickle\n",
    "\n",
    "ENTITIES_OF_INTEREST = ['PERSON', 'NORP', 'FAC', 'ORG', 'GPE', 'LOC', 'PRODUCT', 'EVENT', 'WORK_OF_ART', 'LAW', 'LANGUAGE',\n",
    "'DATE', 'TIME', 'PERCENT', 'MONEY', 'QUANTITY', 'ORDINAL', 'CARDINAL']\n",
    "\n",
    "def apply_pipeline(text):\n",
    "    text = pipe(text)\n",
    "    return text\n",
    "\n",
    "def load_processed_data(data=\"emails_processed.csv\", nrows=5000):\n",
    "    base_df = pd.read_csv(data, nrows=nrows)\n",
    "    focused_df = base_df[['Message-ID', 'Subject']]\n",
    "    return base_df, focused_df\n",
    "\n",
    "\n",
    "def clean_threads(subject_df, subject_col='Subject'):\n",
    "    subject_df = subject_df.astype(str)\n",
    "\n",
    "    for index, row in subject_df.iterrows():\n",
    "        row[subject_col] = row[subject_col].replace('Re:', '')\n",
    "        row[subject_col] = row[subject_col].replace('re:', '')\n",
    "        row[subject_col] = row[subject_col].replace('RE:', '')\n",
    "        row[subject_col] = row[subject_col].replace('FW:', '')\n",
    "        row[subject_col] = row[subject_col].strip()\n",
    "    return subject_df\n",
    "\n",
    "\n",
    "def get_threads(subject_df, base_df, subject_col='Subject', content_col='content'):\n",
    "    subject_df = clean_threads(subject_df)\n",
    "\n",
    "    # Group by subject\n",
    "    subject_dict = subject_df.groupby(subject_col).groups\n",
    "\n",
    "    # Get content for emails in same thread\n",
    "    thread_dict = defaultdict(list)\n",
    "    thread_dict_processed = defaultdict(list)\n",
    "    for key, value in subject_dict.items():\n",
    "        for value in subject_dict[key]:\n",
    "            thread_dict[key].append(base_df.loc[value][content_col])\n",
    "\n",
    "    for key in thread_dict.keys():\n",
    "        thread_dict_processed[key] = ' '.join(thread_dict[key])\n",
    "\n",
    "    return thread_dict_processed\n",
    "\n",
    "\n",
    "def parallelize_df(df, func, save=False, save_file_name=''):\n",
    "    cores = mp.cpu_count()\n",
    "    partitions = cores - 1\n",
    "    df_split = np.array_split(df, partitions)\n",
    "    pool = mp.Pool(cores)\n",
    "    df = pd.concat(pool.map(func, df_split))\n",
    "    pool.close()\n",
    "    pool.join()\n",
    "    \n",
    "    if save:\n",
    "        df.to_pickle(save_file_name)\n",
    "        print('Saved to disk!')\n",
    "    else:\n",
    "        return df\n",
    "\n",
    "\n",
    "def process_neuralcoref(df):\n",
    "    if 'neuralcoref_content' not in df:\n",
    "        df['neuralcoref_content'] = None\n",
    "    \n",
    "    neural_dict=defaultdict(list)\n",
    "    for mid, email in zip(df['Message-ID'], nlp.pipe(df['content'].tolist(), batch_size=150)):\n",
    "        neural_dict[mid].append(email._.coref_resolved)\n",
    "        \n",
    "    neural_df = pd.DataFrame.from_dict(neural_dict, orient='index')\n",
    "    neural_df = neural_df.reset_index()\n",
    "    neural_df = neural_df.rename(index=str, columns={\"index\": \"Message-ID\", 0: \"neuralcoref_content\"})\n",
    "    \n",
    "    df = df.merge(neural_df, on='Message-ID')\n",
    "    \n",
    "    return df\n",
    "\n",
    "\n",
    "def process_emails(df, entity_list=ENTITIES_OF_INTEREST):\n",
    "    if 'processed_content' not in df:\n",
    "        df['processed_content'] = None\n",
    "        \n",
    "    for i, rows in df.iterrows():\n",
    "        df.at[i, 'processed_content'] = nlp(df.at[i, 'content'])\n",
    "        for entity in entity_list:\n",
    "            if entity in  [ent.label_ for ent in list(df.at[i, 'processed_content'].ents)]:\n",
    "                df.at[i, entity] = 1\n",
    "            else:\n",
    "                df.at[i, entity] = 0\n",
    "    \n",
    "    return df"
   ]
  },
  {
   "cell_type": "code",
   "execution_count": 2,
   "metadata": {
    "pycharm": {
     "is_executing": false
    }
   },
   "outputs": [],
   "source": [
    "nlp = spacy.load('en_core_web_sm')\n",
    "\n",
    "base_df, focused_df = load_processed_data(nrows=500)\n",
    "threads = get_threads(focused_df, base_df)"
   ]
  },
  {
   "cell_type": "code",
   "execution_count": 3,
   "metadata": {},
   "outputs": [
    {
     "name": "stdout",
     "output_type": "stream",
     "text": [
      "0.12 minutes\n"
     ]
    }
   ],
   "source": [
    "start_time = time.time()\n",
    "processed_df = parallelize_df(base_df, process_emails)\n",
    "print(\"{min} minutes\".format(min = round((time.time()-start_time)/60,2)))"
   ]
  },
  {
   "cell_type": "markdown",
   "metadata": {},
   "source": [
    "- 5000, 1.64 min\n",
    "- 10000, 4.32 min"
   ]
  },
  {
   "cell_type": "code",
   "execution_count": 4,
   "metadata": {},
   "outputs": [],
   "source": [
    "neuralcoref_df = processed_df.loc[processed_df['PERSON'] == 1]"
   ]
  },
  {
   "cell_type": "code",
   "execution_count": 5,
   "metadata": {},
   "outputs": [
    {
     "ename": "OSError",
     "evalue": "[Errno 28] No space left on device",
     "output_type": "error",
     "traceback": [
      "\u001b[0;31m---------------------------------------------------------------------------\u001b[0m",
      "\u001b[0;31mOSError\u001b[0m                                   Traceback (most recent call last)",
      "\u001b[0;32m<ipython-input-5-abe9e1c36619>\u001b[0m in \u001b[0;36m<module>\u001b[0;34m\u001b[0m\n\u001b[1;32m      6\u001b[0m \u001b[0;31m# nlp.remove_pipe('parser')\u001b[0m\u001b[0;34m\u001b[0m\u001b[0;34m\u001b[0m\u001b[0;34m\u001b[0m\u001b[0m\n\u001b[1;32m      7\u001b[0m \u001b[0;34m\u001b[0m\u001b[0m\n\u001b[0;32m----> 8\u001b[0;31m \u001b[0mparallelize_df\u001b[0m\u001b[0;34m(\u001b[0m\u001b[0mneuralcoref_df\u001b[0m\u001b[0;34m,\u001b[0m \u001b[0mprocess_neuralcoref\u001b[0m\u001b[0;34m,\u001b[0m \u001b[0;32mTrue\u001b[0m\u001b[0;34m,\u001b[0m \u001b[0;34m'test.pkl'\u001b[0m\u001b[0;34m)\u001b[0m\u001b[0;34m\u001b[0m\u001b[0;34m\u001b[0m\u001b[0m\n\u001b[0m\u001b[1;32m      9\u001b[0m \u001b[0mprint\u001b[0m\u001b[0;34m(\u001b[0m\u001b[0;34m\"{min} minutes\"\u001b[0m\u001b[0;34m.\u001b[0m\u001b[0mformat\u001b[0m\u001b[0;34m(\u001b[0m\u001b[0mmin\u001b[0m \u001b[0;34m=\u001b[0m \u001b[0mround\u001b[0m\u001b[0;34m(\u001b[0m\u001b[0;34m(\u001b[0m\u001b[0mtime\u001b[0m\u001b[0;34m.\u001b[0m\u001b[0mtime\u001b[0m\u001b[0;34m(\u001b[0m\u001b[0;34m)\u001b[0m\u001b[0;34m-\u001b[0m\u001b[0mstart_time\u001b[0m\u001b[0;34m)\u001b[0m\u001b[0;34m/\u001b[0m\u001b[0;36m60\u001b[0m\u001b[0;34m,\u001b[0m\u001b[0;36m2\u001b[0m\u001b[0;34m)\u001b[0m\u001b[0;34m)\u001b[0m\u001b[0;34m)\u001b[0m\u001b[0;34m\u001b[0m\u001b[0;34m\u001b[0m\u001b[0m\n",
      "\u001b[0;32m<ipython-input-1-e7dde805d802>\u001b[0m in \u001b[0;36mparallelize_df\u001b[0;34m(df, func, save, save_file_name)\u001b[0m\n\u001b[1;32m     67\u001b[0m \u001b[0;34m\u001b[0m\u001b[0m\n\u001b[1;32m     68\u001b[0m     \u001b[0;32mif\u001b[0m \u001b[0msave\u001b[0m\u001b[0;34m:\u001b[0m\u001b[0;34m\u001b[0m\u001b[0;34m\u001b[0m\u001b[0m\n\u001b[0;32m---> 69\u001b[0;31m         \u001b[0mdf\u001b[0m\u001b[0;34m.\u001b[0m\u001b[0mto_pickle\u001b[0m\u001b[0;34m(\u001b[0m\u001b[0msave_file_name\u001b[0m\u001b[0;34m)\u001b[0m\u001b[0;34m\u001b[0m\u001b[0;34m\u001b[0m\u001b[0m\n\u001b[0m\u001b[1;32m     70\u001b[0m         \u001b[0mprint\u001b[0m\u001b[0;34m(\u001b[0m\u001b[0;34m'Saved to disk!'\u001b[0m\u001b[0;34m)\u001b[0m\u001b[0;34m\u001b[0m\u001b[0;34m\u001b[0m\u001b[0m\n\u001b[1;32m     71\u001b[0m     \u001b[0;32melse\u001b[0m\u001b[0;34m:\u001b[0m\u001b[0;34m\u001b[0m\u001b[0;34m\u001b[0m\u001b[0m\n",
      "\u001b[0;32m~/anaconda3/lib/python3.7/site-packages/pandas/core/generic.py\u001b[0m in \u001b[0;36mto_pickle\u001b[0;34m(self, path, compression, protocol)\u001b[0m\n\u001b[1;32m   2591\u001b[0m         \u001b[0;32mfrom\u001b[0m \u001b[0mpandas\u001b[0m\u001b[0;34m.\u001b[0m\u001b[0mio\u001b[0m\u001b[0;34m.\u001b[0m\u001b[0mpickle\u001b[0m \u001b[0;32mimport\u001b[0m \u001b[0mto_pickle\u001b[0m\u001b[0;34m\u001b[0m\u001b[0;34m\u001b[0m\u001b[0m\n\u001b[1;32m   2592\u001b[0m         return to_pickle(self, path, compression=compression,\n\u001b[0;32m-> 2593\u001b[0;31m                          protocol=protocol)\n\u001b[0m\u001b[1;32m   2594\u001b[0m \u001b[0;34m\u001b[0m\u001b[0m\n\u001b[1;32m   2595\u001b[0m     \u001b[0;32mdef\u001b[0m \u001b[0mto_clipboard\u001b[0m\u001b[0;34m(\u001b[0m\u001b[0mself\u001b[0m\u001b[0;34m,\u001b[0m \u001b[0mexcel\u001b[0m\u001b[0;34m=\u001b[0m\u001b[0;32mTrue\u001b[0m\u001b[0;34m,\u001b[0m \u001b[0msep\u001b[0m\u001b[0;34m=\u001b[0m\u001b[0;32mNone\u001b[0m\u001b[0;34m,\u001b[0m \u001b[0;34m**\u001b[0m\u001b[0mkwargs\u001b[0m\u001b[0;34m)\u001b[0m\u001b[0;34m:\u001b[0m\u001b[0;34m\u001b[0m\u001b[0;34m\u001b[0m\u001b[0m\n",
      "\u001b[0;32m~/anaconda3/lib/python3.7/site-packages/pandas/io/pickle.py\u001b[0m in \u001b[0;36mto_pickle\u001b[0;34m(obj, path, compression, protocol)\u001b[0m\n\u001b[1;32m     75\u001b[0m         \u001b[0mprotocol\u001b[0m \u001b[0;34m=\u001b[0m \u001b[0mpkl\u001b[0m\u001b[0;34m.\u001b[0m\u001b[0mHIGHEST_PROTOCOL\u001b[0m\u001b[0;34m\u001b[0m\u001b[0;34m\u001b[0m\u001b[0m\n\u001b[1;32m     76\u001b[0m     \u001b[0;32mtry\u001b[0m\u001b[0;34m:\u001b[0m\u001b[0;34m\u001b[0m\u001b[0;34m\u001b[0m\u001b[0m\n\u001b[0;32m---> 77\u001b[0;31m         \u001b[0mf\u001b[0m\u001b[0;34m.\u001b[0m\u001b[0mwrite\u001b[0m\u001b[0;34m(\u001b[0m\u001b[0mpkl\u001b[0m\u001b[0;34m.\u001b[0m\u001b[0mdumps\u001b[0m\u001b[0;34m(\u001b[0m\u001b[0mobj\u001b[0m\u001b[0;34m,\u001b[0m \u001b[0mprotocol\u001b[0m\u001b[0;34m=\u001b[0m\u001b[0mprotocol\u001b[0m\u001b[0;34m)\u001b[0m\u001b[0;34m)\u001b[0m\u001b[0;34m\u001b[0m\u001b[0;34m\u001b[0m\u001b[0m\n\u001b[0m\u001b[1;32m     78\u001b[0m     \u001b[0;32mfinally\u001b[0m\u001b[0;34m:\u001b[0m\u001b[0;34m\u001b[0m\u001b[0;34m\u001b[0m\u001b[0m\n\u001b[1;32m     79\u001b[0m         \u001b[0;32mfor\u001b[0m \u001b[0m_f\u001b[0m \u001b[0;32min\u001b[0m \u001b[0mfh\u001b[0m\u001b[0;34m:\u001b[0m\u001b[0;34m\u001b[0m\u001b[0;34m\u001b[0m\u001b[0m\n",
      "\u001b[0;31mOSError\u001b[0m: [Errno 28] No space left on device"
     ]
    }
   ],
   "source": [
    "start_time = time.time()\n",
    "neuralcoref.add_to_pipe(nlp)\n",
    "\n",
    "# nlp.remove_pipe('tagger')\n",
    "# nlp.remove_pipe('ner')\n",
    "# nlp.remove_pipe('parser')\n",
    "\n",
    "parallelize_df(neuralcoref_df, process_neuralcoref, True, 'test.pkl')\n",
    "print(\"{min} minutes\".format(min = round((time.time()-start_time)/60,2)))"
   ]
  },
  {
   "cell_type": "markdown",
   "metadata": {},
   "source": [
    "### Also works, but way less flexible:"
   ]
  },
  {
   "cell_type": "code",
   "execution_count": null,
   "metadata": {},
   "outputs": [],
   "source": [
    "# with mp.Pool(processes=2) as pool:\n",
    "#     threads_processed = pool.map(apply_pipeline, [threads[key] for key in threads.keys()])\n",
    "    \n",
    "pool = Pool(processes=8)\n",
    "for _ in tqdm.tqdm(pool.imap(nlp, [threads[key] for key in threads.keys()]), total=len(threads)):\n",
    "    pass\n",
    "pool.close()\n",
    "pool.join()"
   ]
  }
 ],
 "metadata": {
  "kernelspec": {
   "display_name": "Python 3",
   "language": "python",
   "name": "python3"
  },
  "language_info": {
   "codemirror_mode": {
    "name": "ipython",
    "version": 3
   },
   "file_extension": ".py",
   "mimetype": "text/x-python",
   "name": "python",
   "nbconvert_exporter": "python",
   "pygments_lexer": "ipython3",
   "version": "3.7.3"
  },
  "pycharm": {
   "stem_cell": {
    "cell_type": "raw",
    "metadata": {
     "collapsed": false
    },
    "source": []
   }
  }
 },
 "nbformat": 4,
 "nbformat_minor": 2
}

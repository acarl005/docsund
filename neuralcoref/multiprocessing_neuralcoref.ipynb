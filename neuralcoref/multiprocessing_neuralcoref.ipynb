{
 "cells": [
  {
   "cell_type": "markdown",
   "metadata": {},
   "source": [
    "# Multiprocessing with Pathos"
   ]
  },
  {
   "cell_type": "code",
   "execution_count": 3,
   "metadata": {
    "pycharm": {
     "is_executing": false
    }
   },
   "outputs": [],
   "source": [
    "from __future__ import print_function, unicode_literals\n",
    "\n",
    "from collections import defaultdict\n",
    "import pkg_resources\n",
    "pkg_resources.require('SpaCy==2.1.0')\n",
    "import spacy\n",
    "import neuralcoref\n",
    "import pandas as pd\n",
    "from pathos.multiprocessing import Pool\n",
    "import tqdm\n",
    "import time\n",
    "\n",
    "def apply_pipeline(text):\n",
    "    text = nlp.pipe(text)\n",
    "    return text\n",
    "\n",
    "def load_processed_data(data=\"emails_processed.csv\", nrows=5000):\n",
    "    base_df = pd.read_csv(data, nrows=nrows)\n",
    "    focused_df = base_df[['Message-ID', 'Subject']]\n",
    "    return base_df, focused_df\n",
    "\n",
    "\n",
    "def clean_threads(subject_df, subject_col='Subject'):\n",
    "    subject_df = subject_df.astype(str)\n",
    "\n",
    "    for index, row in subject_df.iterrows():\n",
    "        row[subject_col] = row[subject_col].replace('Re:', '')\n",
    "        row[subject_col] = row[subject_col].replace('re:', '')\n",
    "        row[subject_col] = row[subject_col].replace('RE:', '')\n",
    "        row[subject_col] = row[subject_col].replace('FW:', '')\n",
    "        row[subject_col] = row[subject_col].strip()\n",
    "    return subject_df\n",
    "\n",
    "\n",
    "def get_threads(subject_df, base_df, subject_col='Subject', content_col='content'):\n",
    "    subject_df = clean_threads(subject_df)\n",
    "\n",
    "    # Group by subject\n",
    "    subject_dict = subject_df.groupby(subject_col).groups\n",
    "\n",
    "    # Get content for emails in same thread\n",
    "    thread_dict = defaultdict(list)\n",
    "    thread_dict_processed = defaultdict(list)\n",
    "    for key, value in subject_dict.items():\n",
    "        for value in subject_dict[key]:\n",
    "            thread_dict[key].append(base_df.loc[value][content_col])\n",
    "\n",
    "    for key in thread_dict.keys():\n",
    "        thread_dict_processed[key] = ' '.join(thread_dict[key])\n",
    "\n",
    "    return thread_dict_processed\n",
    "\n"
   ]
  },
  {
   "cell_type": "code",
   "execution_count": 4,
   "metadata": {
    "pycharm": {
     "is_executing": false
    }
   },
   "outputs": [],
   "source": [
    "nlp = spacy.load('en_core_web_sm')\n",
    "neuralcoref.add_to_pipe(nlp)\n",
    "\n",
    "base_df, focused_df = load_processed_data(nrows=1000)\n",
    "threads = get_threads(focused_df, base_df)"
   ]
  },
  {
   "cell_type": "code",
   "execution_count": null,
   "metadata": {
    "pycharm": {
     "is_executing": true
    }
   },
   "outputs": [
    {
     "name": "stderr",
     "text": [
      "\r  0%|          | 0/235 [00:00<?, ?it/s]"
     ],
     "output_type": "stream"
    }
   ],
   "source": [
    "pool = Pool(5)\n",
    "'''\n",
    "for _ in tqdm(pool.imap_unordered(myfunc, range(100)), total=100):\n",
    "    pass\n",
    "'''\n",
    "pbar = tqdm.tqdm(total=235)\n",
    "def update(*a):\n",
    "    pbar.update()\n",
    "for i in range(pbar.total):\n",
    "    pool.apply_async(apply_pipeline, [threads[key] for key in threads.keys()], callback=update)\n",
    "pool.close()\n",
    "pool.join()"
   ]
  },
  {
   "cell_type": "code",
   "execution_count": 4,
   "metadata": {},
   "outputs": [
    {
     "name": "stdout",
     "output_type": "stream",
     "text": [
      "Time elapsed: 377758.2550048828 ms\n"
     ]
    }
   ],
   "source": [
    "start = time.time()\n",
    "threads_processed = []\n",
    "for doc in nlp.pipe([threads[key] for key in threads.keys()], batch_size=1000, n_threads=5):\n",
    "    threads_processed.append(doc)\n",
    "print('Time elapsed: {} ms'.format((time.time()-start)*1000))"
   ]
  },
  {
   "cell_type": "code",
   "execution_count": null,
   "metadata": {},
   "outputs": [],
   "source": [
    "start = time.time()\n",
    "docs_processed = []\n",
    "for doc in nlp.pipe(base_df['content'].tolist(), batch_size=1000, n_threads=5):\n",
    "    docs_processed.append(doc)\n",
    "print('Time elapsed: {} sec'.format((time.time()-start)))"
   ]
  },
  {
   "cell_type": "code",
   "execution_count": null,
   "metadata": {},
   "outputs": [],
   "source": [
    "# with mp.Pool(processes=2) as pool:\n",
    "#     threads_processed = pool.map(apply_pipeline, [threads[key] for key in threads.keys()])\n",
    "    \n",
    "pool = Pool(processes=8)\n",
    "for _ in tqdm.tqdm(pool.imap(nlp, [threads[key] for key in threads.keys()]), total=235):\n",
    "    pass\n",
    "pool.close()\n",
    "pool.join()"
   ]
  },
  {
   "cell_type": "code",
   "execution_count": null,
   "metadata": {},
   "outputs": [],
   "source": []
  }
 ],
 "metadata": {
  "kernelspec": {
   "display_name": "Python 3",
   "language": "python",
   "name": "python3"
  },
  "language_info": {
   "codemirror_mode": {
    "name": "ipython",
    "version": 3
   },
   "file_extension": ".py",
   "mimetype": "text/x-python",
   "name": "python",
   "nbconvert_exporter": "python",
   "pygments_lexer": "ipython3",
   "version": "3.7.3"
  },
  "pycharm": {
   "stem_cell": {
    "cell_type": "raw",
    "source": [],
    "metadata": {
     "collapsed": false
    }
   }
  }
 },
 "nbformat": 4,
 "nbformat_minor": 2
}
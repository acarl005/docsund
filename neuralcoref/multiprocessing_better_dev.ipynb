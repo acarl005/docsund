{
 "cells": [
  {
   "cell_type": "markdown",
   "metadata": {},
   "source": [
    "##  Cython NLP\n",
    "\n",
    "The below is an example NeuralCoref had about using Cython for 'blazing fast NLP'...however, it requires that a spacy doc be passed into it, whereas in our current process, the pipe is the bottleneck...so not super useful."
   ]
  },
  {
   "cell_type": "code",
   "execution_count": 1,
   "metadata": {},
   "outputs": [],
   "source": [
    "import setuptools\n",
    "%load_ext Cython"
   ]
  },
  {
   "cell_type": "code",
   "execution_count": 2,
   "metadata": {},
   "outputs": [],
   "source": [
    "import urllib.request\n",
    "import spacy\n",
    "# Build a dataset of 10 parsed document extracted from the Wikitext-2 dataset\n",
    "with urllib.request.urlopen('https://raw.githubusercontent.com/pytorch/examples/master/word_language_model/data/wikitext-2/valid.txt') as response:\n",
    "    text = response.read()\n",
    "nlp = spacy.load('en_core_web_sm', disable=['parser', 'tagger'])\n",
    "doc_list = list(nlp(text[:800000].decode('utf8')) for i in range(10))"
   ]
  },
  {
   "cell_type": "code",
   "execution_count": 3,
   "metadata": {
    "pycharm": {
     "is_executing": false
    }
   },
   "outputs": [],
   "source": [
    "%%cython -+\n",
    "import numpy # Sometime we have a fail to import numpy compilation error if we don't import numpy\n",
    "from cymem.cymem cimport Pool\n",
    "from spacy.tokens.doc cimport Doc\n",
    "from spacy.typedefs cimport hash_t\n",
    "from spacy.structs cimport TokenC\n",
    "\n",
    "cdef struct DocElement:\n",
    "    TokenC* c\n",
    "    int length\n",
    "\n",
    "cdef int fast_loop(DocElement* docs, int n_docs, hash_t word, hash_t tag):\n",
    "    cdef int n_out = 0\n",
    "    for doc in docs[:n_docs]:\n",
    "        for c in doc.c[:doc.length]:\n",
    "            if c.lex.lower == word and c.tag == tag:\n",
    "                n_out += 1\n",
    "    return n_out\n",
    "\n",
    "def main_nlp_fast(doc_list):\n",
    "    cdef int i, n_out, n_docs = len(doc_list)\n",
    "    cdef Pool mem = Pool()\n",
    "    cdef DocElement* docs = <DocElement*>mem.alloc(n_docs, sizeof(DocElement))\n",
    "    cdef Doc doc\n",
    "    for i, doc in enumerate(doc_list): # Populate our database structure\n",
    "        docs[i].c = doc.c\n",
    "        docs[i].length = (<Doc>doc).length\n",
    "    word_hash = doc.vocab.strings.add('run')\n",
    "    tag_hash = doc.vocab.strings.add('NN')\n",
    "    n_out = fast_loop(docs, n_docs, word_hash, tag_hash)\n",
    "    print(n_out)"
   ]
  },
  {
   "cell_type": "code",
   "execution_count": 6,
   "metadata": {},
   "outputs": [
    {
     "name": "stdout",
     "output_type": "stream",
     "text": [
      "0\n",
      "Wall time: 34.9 ms\n"
     ]
    }
   ],
   "source": [
    "%%time\n",
    "main_nlp_fast(doc_list)"
   ]
  },
  {
   "cell_type": "markdown",
   "metadata": {},
   "source": [
    "------\n",
    "##  Using spacy's built-in nlp.pipe"
   ]
  },
  {
   "cell_type": "code",
   "execution_count": null,
   "metadata": {},
   "outputs": [],
   "source": [
    "# OPENBLAS_NUM_THREADS=1"
   ]
  },
  {
   "cell_type": "code",
   "execution_count": 7,
   "metadata": {},
   "outputs": [],
   "source": [
    "import spacy\n",
    "import pandas as pd\n",
    "emails_df = pd.read_csv('emails_processed.csv', nrows=10000)"
   ]
  },
  {
   "cell_type": "code",
   "execution_count": 12,
   "metadata": {},
   "outputs": [
    {
     "name": "stdout",
     "output_type": "stream",
     "text": [
      "Wall time: 3min 30s\n"
     ]
    }
   ],
   "source": [
    "%%time\n",
    "\n",
    "nlp = spacy.load('en_core_web_sm', disable=['parser', 'tagger'])\n",
    "# import neuralcoref\n",
    "# neuralcoref.add_to_pipe(nlp)\n",
    "\n",
    "emails_processed = []\n",
    "for email in nlp.pipe(emails_df['content'],batch_size=75,n_threads=5):\n",
    "    emails_processed.append(email)"
   ]
  },
  {
   "cell_type": "markdown",
   "metadata": {},
   "source": [
    "### Without neuralcoref, parser, tagger\n",
    "- 2000,batch_size=500, 24s\n",
    "- 5000,batch_size=500, 1min\n",
    "- 10000,batch_size=500, 2min43\n",
    "- 10000,batch_size=250, 2min40\n",
    "- 10000,batch_size=150, 2min34\n",
    "- 10000,batch_size=100, 2min30\n",
    "- 10000,batch_size=75, 3min30\n",
    "\n",
    "### Without neuralcoref\n",
    "- 10000,batch_size=50, 7min5s\n",
    "- 20000, batch_size=50, 16min29s\n",
    "\n",
    "### With neuralcoref\n",
    "- 10000, batch_size=30, 1hr4min43s\n"
   ]
  }
 ],
 "metadata": {
  "kernelspec": {
   "display_name": "Python 3",
   "language": "python",
   "name": "python3"
  },
  "language_info": {
   "codemirror_mode": {
    "name": "ipython",
    "version": 3
   },
   "file_extension": ".py",
   "mimetype": "text/x-python",
   "name": "python",
   "nbconvert_exporter": "python",
   "pygments_lexer": "ipython3",
   "version": "3.7.3"
  }
 },
 "nbformat": 4,
 "nbformat_minor": 2
}

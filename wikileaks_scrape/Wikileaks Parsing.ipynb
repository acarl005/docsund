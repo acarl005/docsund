{
 "cells": [
  {
   "cell_type": "markdown",
   "metadata": {},
   "source": [
    "# Wikileaks email parsing\n",
    "\n",
    "This notebook parses the scraped DNC and Sony email data"
   ]
  },
  {
   "cell_type": "code",
   "execution_count": 61,
   "metadata": {},
   "outputs": [],
   "source": [
    "from collections import defaultdict\n",
    "from html.parser import HTMLParser\n",
    "from email.parser import Parser\n",
    "import os\n",
    "from pathlib import Path\n",
    "import re\n",
    "\n",
    "from lxml import html\n",
    "from lxml.etree import tostring\n",
    "import pandas as pd"
   ]
  },
  {
   "cell_type": "code",
   "execution_count": 62,
   "metadata": {},
   "outputs": [
    {
     "data": {
      "text/plain": [
       "WindowsPath('C:/Users/rmdel/Documents/Berkeley MIDS/W210 Capstone/DNC Emails/sony_emails_raw')"
      ]
     },
     "execution_count": 62,
     "metadata": {},
     "output_type": "execute_result"
    }
   ],
   "source": [
    "ROOT_DIR = Path(r'C:\\Users\\rmdel\\Documents\\Berkeley MIDS\\W210 Capstone\\DNC Emails')\n",
    "dnc_dir = ROOT_DIR / 'dnc_emails_raw'\n",
    "sony_dir = ROOT_DIR / 'sony_emails_raw'\n",
    "\n",
    "sony_dir"
   ]
  },
  {
   "cell_type": "code",
   "execution_count": 143,
   "metadata": {},
   "outputs": [],
   "source": [
    "class MLStripper(HTMLParser):\n",
    "    def __init__(self):\n",
    "        self.reset()\n",
    "        self.strict = False\n",
    "        self.convert_charrefs = True\n",
    "        self.fed = []\n",
    "    def handle_data(self, d):\n",
    "        self.fed.append(d)\n",
    "    def get_data(self):\n",
    "        return ''.join(self.fed)\n",
    "\n",
    "\n",
    "def strip_tags(html):\n",
    "    s = MLStripper()\n",
    "    s.feed(html)\n",
    "    return s.get_data()\n",
    "\n",
    "\n",
    "def clean_body(body):\n",
    "    \"\"\"Handles some quirkiness I saw in the Windows encoding of email bodies\"\"\"\n",
    "    quirks = [\n",
    "        (r'=92', '\\''),\n",
    "        (r'=93', ''),\n",
    "        (r'=94', ''),\n",
    "        (r'=\\n', ''),\n",
    "        (r'Content-Type: \\w+\\/\\w+;', ''),\n",
    "        (r'charset=\"[\\-\\w]+\"\\n', ''),\n",
    "        (r'Content-Transfer-Encoding: [-\\w]+', ''),\n",
    "        (r'X-WatchGuard-AntiVirus: part scanned. clean action=allow', ''),\n",
    "        (r'Content-Language: [-\\w]+', ''),\n",
    "        (r'boundary=\"[-\\w\\.=]+\"', ''),\n",
    "        (r'--_\\d+_\\w+(?=\\n)', ''),\n",
    "        (r'\\w{50,}', '')\n",
    "    ]\n",
    "    for bad, good in quirks:\n",
    "        body = re.sub(bad, good, body)\n",
    "    body = body.strip()\n",
    "    return body\n",
    "\n",
    "\n",
    "def parse_email(msg):\n",
    "    eml_dict = defaultdict(lambda x: None)\n",
    "    parsed_eml = Parser().parsestr(msg)\n",
    "    eml_dict.update(parsed_eml)\n",
    "    \n",
    "    # Replace the Body with a HTML-stripped string of the body\n",
    "    body = parsed_eml.get_payload()\n",
    "    if isinstance(body, list):\n",
    "        body = body[0].as_string()\n",
    "    body = strip_tags(body)\n",
    "    body = clean_body(body)\n",
    "    \n",
    "    eml_dict['Body'] = body\n",
    "    return eml_dict"
   ]
  },
  {
   "cell_type": "markdown",
   "metadata": {},
   "source": [
    "## DNC Parsing"
   ]
  },
  {
   "cell_type": "code",
   "execution_count": 64,
   "metadata": {},
   "outputs": [
    {
     "data": {
      "text/plain": [
       "[WindowsPath('C:/Users/rmdel/Documents/Berkeley MIDS/W210 Capstone/DNC Emails/dnc_emails_raw/1.eml'),\n",
       " WindowsPath('C:/Users/rmdel/Documents/Berkeley MIDS/W210 Capstone/DNC Emails/dnc_emails_raw/10.eml'),\n",
       " WindowsPath('C:/Users/rmdel/Documents/Berkeley MIDS/W210 Capstone/DNC Emails/dnc_emails_raw/100.eml'),\n",
       " WindowsPath('C:/Users/rmdel/Documents/Berkeley MIDS/W210 Capstone/DNC Emails/dnc_emails_raw/1000.eml'),\n",
       " WindowsPath('C:/Users/rmdel/Documents/Berkeley MIDS/W210 Capstone/DNC Emails/dnc_emails_raw/10000.eml')]"
      ]
     },
     "execution_count": 64,
     "metadata": {},
     "output_type": "execute_result"
    }
   ],
   "source": [
    "dnc_files = list(dnc_dir.glob('*.eml'))\n",
    "dnc_files[:5]"
   ]
  },
  {
   "cell_type": "code",
   "execution_count": 146,
   "metadata": {},
   "outputs": [],
   "source": [
    "error_emails = []\n",
    "success_emails = []\n",
    "\n",
    "for dnc_file in dnc_files:\n",
    "    try:\n",
    "        with open(dnc_file, 'r') as f:\n",
    "            text = f.read()\n",
    "        eml_parsed = parse_email(text)\n",
    "        success_emails.append(eml_parsed)\n",
    "    except:\n",
    "        error_emails.append(dnc_file)"
   ]
  },
  {
   "cell_type": "code",
   "execution_count": 147,
   "metadata": {},
   "outputs": [],
   "source": [
    "df = pd.DataFrame(success_emails)"
   ]
  },
  {
   "cell_type": "code",
   "execution_count": 148,
   "metadata": {},
   "outputs": [],
   "source": [
    "cols_of_interest = [\n",
    "    'To',\n",
    "    'From',\n",
    "    'Subject',\n",
    "    'Body',\n",
    "    'Date'\n",
    "]"
   ]
  },
  {
   "cell_type": "code",
   "execution_count": 149,
   "metadata": {},
   "outputs": [],
   "source": [
    "df = df[cols_of_interest]"
   ]
  },
  {
   "cell_type": "code",
   "execution_count": 150,
   "metadata": {},
   "outputs": [],
   "source": [
    "df['Body'] = df['Body'].str.strip()"
   ]
  },
  {
   "cell_type": "code",
   "execution_count": 159,
   "metadata": {},
   "outputs": [],
   "source": [
    "df.to_csv('DNC_Emails.csv', index=False)"
   ]
  },
  {
   "cell_type": "markdown",
   "metadata": {},
   "source": [
    "## Sony Emails"
   ]
  },
  {
   "cell_type": "code",
   "execution_count": 160,
   "metadata": {},
   "outputs": [
    {
     "data": {
      "text/plain": [
       "[WindowsPath('C:/Users/rmdel/Documents/Berkeley MIDS/W210 Capstone/DNC Emails/sony_emails_raw/1.eml'),\n",
       " WindowsPath('C:/Users/rmdel/Documents/Berkeley MIDS/W210 Capstone/DNC Emails/sony_emails_raw/10.eml'),\n",
       " WindowsPath('C:/Users/rmdel/Documents/Berkeley MIDS/W210 Capstone/DNC Emails/sony_emails_raw/100.eml'),\n",
       " WindowsPath('C:/Users/rmdel/Documents/Berkeley MIDS/W210 Capstone/DNC Emails/sony_emails_raw/1000.eml'),\n",
       " WindowsPath('C:/Users/rmdel/Documents/Berkeley MIDS/W210 Capstone/DNC Emails/sony_emails_raw/10000.eml')]"
      ]
     },
     "execution_count": 160,
     "metadata": {},
     "output_type": "execute_result"
    }
   ],
   "source": [
    "sony_files = list(sony_dir.glob('*.eml'))\n",
    "sony_files[:5]"
   ]
  },
  {
   "cell_type": "code",
   "execution_count": null,
   "metadata": {},
   "outputs": [],
   "source": [
    "with open(sony_files[0], 'r') as f:\n",
    "    text = f.read()"
   ]
  },
  {
   "cell_type": "code",
   "execution_count": 161,
   "metadata": {},
   "outputs": [],
   "source": [
    "def parse_sony_email(sony_file):\n",
    "    with open(sony_file, 'r') as f:\n",
    "        text = f.read()\n",
    "    tree = html.fromstring(text)\n",
    "    eml_text = tree.xpath('//div[@id=\"email_raw\"]/pre/text()')\n",
    "    if eml_text:\n",
    "        eml_parsed = parse_email(eml_text[0])\n",
    "        return eml_parsed\n",
    "    else:\n",
    "        return False"
   ]
  },
  {
   "cell_type": "code",
   "execution_count": 162,
   "metadata": {},
   "outputs": [],
   "source": [
    "sony_successes = []\n",
    "sony_failures = []\n",
    "\n",
    "for sony_file in sony_files:\n",
    "    try:\n",
    "        sony_eml = parse_sony_email(sony_file)\n",
    "        if sony_eml:\n",
    "            sony_successes.append(sony_eml)\n",
    "        else:\n",
    "            sony_failures.append(sony_file)\n",
    "    except:\n",
    "        sony_failures.append(sony_file)"
   ]
  },
  {
   "cell_type": "code",
   "execution_count": 169,
   "metadata": {},
   "outputs": [
    {
     "data": {
      "text/plain": [
       "21281"
      ]
     },
     "execution_count": 169,
     "metadata": {},
     "output_type": "execute_result"
    }
   ],
   "source": [
    "len(sony_successes)"
   ]
  },
  {
   "cell_type": "code",
   "execution_count": null,
   "metadata": {},
   "outputs": [],
   "source": []
  },
  {
   "cell_type": "code",
   "execution_count": 170,
   "metadata": {},
   "outputs": [
    {
     "data": {
      "text/plain": [
       "1718"
      ]
     },
     "execution_count": 170,
     "metadata": {},
     "output_type": "execute_result"
    }
   ],
   "source": [
    "len(sony_failures)"
   ]
  },
  {
   "cell_type": "code",
   "execution_count": 164,
   "metadata": {},
   "outputs": [],
   "source": [
    "sony_df = pd.DataFrame(sony_successes)"
   ]
  },
  {
   "cell_type": "code",
   "execution_count": 13,
   "metadata": {},
   "outputs": [
    {
     "data": {
      "text/plain": [
       "array(['\"Mosko, Steve\"', '\"Mosko, Steve\" <MAILER-DAEMON>',\n",
       "       'steve_mosko@spe.sony.com', ...,\n",
       "       '\"Bramnick, Flory\" <Flory_Bramnick@spe.sony.com>',\n",
       "       '<occamraze@aol.com>',\n",
       "       'Julian Edwards <JEdwards@lifespanmedicine.com>'], dtype=object)"
      ]
     },
     "execution_count": 13,
     "metadata": {},
     "output_type": "execute_result"
    }
   ],
   "source": [
    "sony_df['From'].unique()"
   ]
  },
  {
   "cell_type": "code",
   "execution_count": 16,
   "metadata": {},
   "outputs": [],
   "source": [
    "cols = sony_df.columns"
   ]
  },
  {
   "cell_type": "code",
   "execution_count": 18,
   "metadata": {},
   "outputs": [],
   "source": [
    "cols_of_interest = ['To', 'From', 'Subject', 'Body', 'Date']"
   ]
  },
  {
   "cell_type": "code",
   "execution_count": 165,
   "metadata": {},
   "outputs": [],
   "source": [
    "sony_df = sony_df[cols_of_interest]"
   ]
  },
  {
   "cell_type": "code",
   "execution_count": 166,
   "metadata": {},
   "outputs": [],
   "source": [
    "sony_df['Body'] = sony_df['Body'].str.strip()"
   ]
  },
  {
   "cell_type": "code",
   "execution_count": 167,
   "metadata": {},
   "outputs": [],
   "source": [
    "# Sometimes the Subject appears in the Body because the parser did not properly separate \n",
    "# the two fields. Snip those out\n",
    "sony_df['SubLength'] = sony_df['Subject'].str.len()\n",
    "bodies = sony_df['Body'].tolist()\n",
    "sublengths = sony_df['SubLength'].tolist()\n",
    "subbodies = [b[:l] for b, l in zip(bodies, sublengths)]\n",
    "subjects = sony_df['Subject'].tolist()\n",
    "new_bodies = []\n",
    "\n",
    "for body, sublength, subject in zip(bodies, sublengths, subjects):\n",
    "    if body[:sublength] == subject:\n",
    "        new_bodies.append(body[sublength:])\n",
    "    else:\n",
    "        new_bodies.append(body)"
   ]
  },
  {
   "cell_type": "code",
   "execution_count": 171,
   "metadata": {},
   "outputs": [],
   "source": [
    "sony_df['BodyOld'] = sony_df['Body']\n",
    "\n",
    "sony_df['Body'] = new_bodies\n",
    "sony_df['Body'] = sony_df['Body'].str.strip()\n",
    "\n",
    "sony_df = sony_df.drop(['BodyOld', 'SubLength'], axis=1)"
   ]
  },
  {
   "cell_type": "code",
   "execution_count": 176,
   "metadata": {},
   "outputs": [],
   "source": [
    "sony_df.to_csv('Sony_Emails.csv', index=False)"
   ]
  },
  {
   "cell_type": "code",
   "execution_count": 60,
   "metadata": {},
   "outputs": [],
   "source": []
  }
 ],
 "metadata": {
  "kernelspec": {
   "display_name": "Python [conda env:datascience]",
   "language": "python",
   "name": "conda-env-datascience-py"
  },
  "language_info": {
   "codemirror_mode": {
    "name": "ipython",
    "version": 3
   },
   "file_extension": ".py",
   "mimetype": "text/x-python",
   "name": "python",
   "nbconvert_exporter": "python",
   "pygments_lexer": "ipython3",
   "version": "3.7.3"
  }
 },
 "nbformat": 4,
 "nbformat_minor": 2
}
